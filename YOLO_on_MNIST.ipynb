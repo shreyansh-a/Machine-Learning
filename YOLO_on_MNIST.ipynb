{
 "cells": [
  {
   "cell_type": "code",
   "execution_count": 0,
   "metadata": {
    "colab": {
     "base_uri": "https://localhost:8080/",
     "height": 53
    },
    "colab_type": "code",
    "id": "cdxWdNFmTxTE",
    "outputId": "ace4ae23-b415-4890-a2b5-6c10ca5a2d49"
   },
   "outputs": [
    {
     "name": "stdout",
     "output_type": "stream",
     "text": [
      "Downloading data from https://storage.googleapis.com/tensorflow/tf-keras-datasets/mnist.npz\n",
      "11493376/11490434 [==============================] - 0s 0us/step\n"
     ]
    }
   ],
   "source": [
    "import numpy as np\n",
    "import tensorflow as tf\n",
    "from tensorflow.keras import Sequential\n",
    "from tensorflow.keras import layers\n",
    "from PIL import Image, ImageDraw\n",
    "import matplotlib.pyplot as plt\n",
    "import multi_mnist as mln"
   ]
  },
  {
   "cell_type": "code",
   "execution_count": 0,
   "metadata": {
    "colab": {
     "base_uri": "https://localhost:8080/",
     "height": 35
    },
    "colab_type": "code",
    "id": "6MheZK1-V8CN",
    "outputId": "c57012cb-56d5-46e7-f595-b031ad2813de"
   },
   "outputs": [
    {
     "name": "stdout",
     "output_type": "stream",
     "text": [
      "2.0.0\n"
     ]
    }
   ],
   "source": [
    "print(tf.__version__)"
   ]
  },
  {
   "cell_type": "code",
   "execution_count": 0,
   "metadata": {
    "colab": {},
    "colab_type": "code",
    "id": "iVTf45OlTxTJ"
   },
   "outputs": [],
   "source": [
    "@tf.function\n",
    "def clean(imgs):\n",
    "    num, h, w = imgs.shape\n",
    "    img_data = tf.reshape(imgs,[num, -1])\n",
    "    img_size = float(img_data.shape[1])\n",
    "    means = tf.math.reduce_mean(img_data, axis=1)\n",
    "    meansT = tf.reshape(means,[num, 1])\n",
    "    stds = tf.math.reduce_std(img_data, axis=1)\n",
    "    stdsT = tf.reshape(stds,[num, 1])\n",
    "    adj_stds = tf.math.maximum(stdsT, 1.0/tf.math.sqrt(img_size))\n",
    "    normalized = (img_data-meansT)/adj_stds\n",
    "    normalized = tf.reshape(normalized,[num, h, w, 1])\n",
    "    return normalized"
   ]
  },
  {
   "cell_type": "code",
   "execution_count": 0,
   "metadata": {
    "colab": {},
    "colab_type": "code",
    "id": "KJX841csTxTN"
   },
   "outputs": [],
   "source": [
    "def yolo_loss(y_true, y_pred):\n",
    "    \n",
    "    y_true_class = y_true[...,5:15]\n",
    "    y_pred_class = y_pred[...,5:15]\n",
    "    \n",
    "    y_pred_xy   = y_pred[...,1:3]\n",
    "    y_pred_wh   = y_pred[...,3:5]\n",
    "    y_pred_conf = y_pred[...,0]\n",
    "\n",
    "    y_true_xy   = y_true[...,1:3]\n",
    "    y_true_wh   = y_true[...,3:5]\n",
    "    y_true_conf = y_true[...,0]\n",
    "    \n",
    "    clss_loss  = tf.math.reduce_sum(\n",
    "        tf.math.reduce_sum(\n",
    "            tf.math.square(y_true_class - y_pred_class), axis=-1)*y_true_conf, \n",
    "        axis=[-1,-2])\n",
    "    xy_loss    = 5.*tf.math.reduce_sum(\n",
    "        tf.math.reduce_sum(\n",
    "            tf.math.square(y_true_xy - y_pred_xy),axis=-1)*y_true_conf, \n",
    "        axis=[-1,-2])\n",
    "    wh_loss    = 5.*tf.math.reduce_sum(\n",
    "        tf.math.reduce_sum(\n",
    "            tf.math.square(\n",
    "                tf.math.sqrt(y_true_wh) - tf.math.sqrt(y_pred_wh)), \n",
    "            axis=-1)*y_true_conf, axis=[-1,-2])\n",
    "    \n",
    "    conf_loss_noobj = 0.5*tf.math.reduce_sum(\n",
    "        tf.math.square(y_pred_conf*(1-y_true_conf) - y_true_conf), \n",
    "        axis=[-1,-2])\n",
    "    conf_loss_obj = tf.math.reduce_sum(\n",
    "        tf.math.square(y_pred_conf*(y_true_conf) - y_true_conf), \n",
    "        axis=[-1,-2])\n",
    "    \n",
    "    total_loss = tf.math.reduce_mean(clss_loss + xy_loss + wh_loss + \n",
    "                                     conf_loss_noobj + conf_loss_obj)\n",
    "    \n",
    "    return total_loss"
   ]
  },
  {
   "cell_type": "code",
   "execution_count": 0,
   "metadata": {
    "colab": {},
    "colab_type": "code",
    "id": "MpHpeZ8iTMZ4"
   },
   "outputs": [],
   "source": [
    "class Box:\n",
    "  def __init__(self, x, y, width, height):\n",
    "    self.x = x\n",
    "    self.y = y\n",
    "    self.height = height\n",
    "    self.width = width\n",
    "  \n",
    "  def IOU(box1, box2):\n",
    "    in_h = np.maximum(0., \\\n",
    "                           (box1.height + box2.height)/2 - \\\n",
    "                           np.abs(box1.y - box2.y))\n",
    "    in_w = np.maximum(0., \\\n",
    "                           (box1.width + box2.width)/2 - \\\n",
    "                           np.abs(box1.x - box2.x))\n",
    "    in_area = in_h * in_w\n",
    "    un_area = box1.height * box1.width + box2.height * box2.width - in_area\n",
    "    iou = in_area / un_area\n",
    "    return iou"
   ]
  },
  {
   "cell_type": "code",
   "execution_count": 0,
   "metadata": {
    "colab": {},
    "colab_type": "code",
    "id": "_FWI1mYSbNw_"
   },
   "outputs": [],
   "source": [
    "def sample_compare(vals):\n",
    "  #This function takes a single output and compares the accuracy\n",
    "  #This will be called iteratively over the output tensor\n",
    "  #Thus the output tensor should have a sample size of more than 1\n",
    "  #Correct prediction is if the IOU is greater than 0.6 ...\n",
    "  #and the class label is correct\n",
    "\n",
    "  #Starting by creating a list of all boxes that have confidence of ...\n",
    "  #more than 0.6\n",
    "\n",
    "  div = 200./5.\n",
    "  \n",
    "  y_true = vals[0]\n",
    "  y_pred = vals[1]\n",
    "\n",
    "  pred_boxes = []\n",
    "  pred_classes = []\n",
    "\n",
    "  for x_index in range(5):\n",
    "    for y_index in range(5):\n",
    "      if y_pred[x_index, y_index, 0] < 0.6:\n",
    "        \n",
    "        continue\n",
    "      \n",
    "      x = y_pred[x_index, y_index, 1]*div + x_index*div\n",
    "      y = y_pred[x_index, y_index, 2]*div + y_index*div\n",
    "      width = y_pred[x_index, y_index, 3]*200\n",
    "      height = y_pred[x_index, y_index, 4]*200\n",
    "      pred_box = Box(x, y, width, height)\n",
    "      pred_boxes = np.append(pred_boxes, pred_box)\n",
    "\n",
    "      pred_class = np.argmax(y_pred[x_index, y_index, 5:15])\n",
    "      pred_classes = np.append(pred_classes, pred_class)\n",
    "\n",
    "  total_predictions = len(pred_boxes)\n",
    "\n",
    "  #Now take each correct box one at a time and compare\n",
    "\n",
    "  total_objects = 0\n",
    "  correct_predictions = 0\n",
    "\n",
    "  for x_index in range(5):\n",
    "    for y_index in range(5):\n",
    "      if y_true[x_index, y_index, 0] == 0:\n",
    "        continue\n",
    "      total_objects += 1\n",
    "      x = y_true[x_index, y_index, 1]*div + x_index*div\n",
    "      y = y_true[x_index, y_index, 2]*div + y_index*div\n",
    "      width = y_true[x_index, y_index, 3]*200\n",
    "      height = y_true[x_index, y_index, 4]*200\n",
    "      true_box = Box(x, y, width, height)\n",
    "\n",
    "      true_class = np.argmax(y_true[x_index, y_index, 5:15])\n",
    "      \n",
    "      max_iou = max_index = 0\n",
    "      for i in range(len(pred_boxes)):\n",
    "        pred = pred_boxes[i]\n",
    "        iou = Box.IOU(true_box, pred)\n",
    "        if iou > max_iou:\n",
    "          max_iou = iou\n",
    "          max_index = i\n",
    "      \n",
    "      if (true_class == pred_classes[max_index]) and max_iou > 0.5:\n",
    "        correct_predictions += 1\n",
    "\n",
    "  acc = correct_predictions/(total_predictions + \\\n",
    "                             total_objects - correct_predictions)\n",
    "  \n",
    "  acc2 = correct_predictions/total_objects\n",
    "  \n",
    "  return acc\n"
   ]
  },
  {
   "cell_type": "code",
   "execution_count": 0,
   "metadata": {
    "colab": {},
    "colab_type": "code",
    "id": "oZJs2bspTxTT"
   },
   "outputs": [],
   "source": [
    "def non_max_supression(y_pred):\n",
    "    div = 200/5\n",
    "    for x_index in range(5):\n",
    "      for y_index in range(5):\n",
    "        if y_pred[x_index, y_index, 0] < 0.6:\n",
    "          continue\n",
    "\n",
    "        x = y_pred[x_index, y_index, 1]*div + x_index*div\n",
    "        y = y_pred[x_index, y_index, 2]*div + y_index*div\n",
    "        width = y_pred[x_index, y_index, 3]*200\n",
    "        height = y_pred[x_index, y_index, 4]*200\n",
    "        box1 = Box(x, y, width, height)\n",
    "        class1 = np.argmax(y_pred[x_index, y_index, 5:15])\n",
    "\n",
    "        for x2 in range(5):\n",
    "          for y2 in range(5):\n",
    "            if x_index==x2 and y_index==y2: continue\n",
    "            if y_pred[x2, y2, 0] < 0.6:\n",
    "              continue\n",
    "            x = y_pred[x2, y2, 1]*div + x2*div\n",
    "            y = y_pred[x2, y2, 2]*div + y2*div\n",
    "            width = y_pred[x2, y2, 3]*200\n",
    "            height = y_pred[x2, y2, 4]*200\n",
    "            box2 = Box(x, y, width, height)\n",
    "            class2 = np.argmax(y_pred[x2, y2, 5:15])\n",
    "\n",
    "            iou = Box.IOU(box1, box2)\n",
    "            if iou > 0.5 and class1==class2:\n",
    "              if y_pred[x_index, y_index, 0] < y_pred[x2, y2, 0]: \n",
    "                y_pred[x_index, y_index, 0] = 0\n",
    "              else: y_pred[x2, y2, 0] = 0\n",
    "     "
   ]
  },
  {
   "cell_type": "code",
   "execution_count": 0,
   "metadata": {
    "colab": {},
    "colab_type": "code",
    "id": "Zn03Rn2VTxTW"
   },
   "outputs": [],
   "source": [
    "model = Sequential()\n",
    "model.add(layers.Conv2D(16, [3,3], activation=tf.nn.leaky_relu, \n",
    "                        input_shape=[200,200,1]))\n",
    "model.add(layers.Conv2D(32, [3,3], activation=tf.nn.leaky_relu))\n",
    "model.add(layers.MaxPooling2D())\n",
    "model.add(layers.Conv2D(16, [3,3], activation=tf.nn.leaky_relu))\n",
    "model.add(layers.Conv2D(32, [3,3], activation=tf.nn.leaky_relu))\n",
    "model.add(layers.MaxPooling2D())\n",
    "model.add(layers.Flatten())\n",
    "model.add(layers.Dense(375, activation='sigmoid'))\n",
    "model.add(layers.Reshape((5,5,15)))\n",
    "model.compile(optimizer=tf.keras.optimizers.Adam(0.002), loss=yolo_loss)"
   ]
  },
  {
   "cell_type": "code",
   "execution_count": 0,
   "metadata": {
    "colab": {
     "base_uri": "https://localhost:8080/",
     "height": 459
    },
    "colab_type": "code",
    "id": "QUUvCG-nTq5Q",
    "outputId": "48c77903-50f3-4a82-8b69-ca5814889f5f"
   },
   "outputs": [
    {
     "name": "stdout",
     "output_type": "stream",
     "text": [
      "Model: \"sequential\"\n",
      "_________________________________________________________________\n",
      "Layer (type)                 Output Shape              Param #   \n",
      "=================================================================\n",
      "conv2d (Conv2D)              (None, 198, 198, 16)      160       \n",
      "_________________________________________________________________\n",
      "conv2d_1 (Conv2D)            (None, 196, 196, 32)      4640      \n",
      "_________________________________________________________________\n",
      "max_pooling2d (MaxPooling2D) (None, 98, 98, 32)        0         \n",
      "_________________________________________________________________\n",
      "conv2d_2 (Conv2D)            (None, 96, 96, 16)        4624      \n",
      "_________________________________________________________________\n",
      "conv2d_3 (Conv2D)            (None, 94, 94, 32)        4640      \n",
      "_________________________________________________________________\n",
      "max_pooling2d_1 (MaxPooling2 (None, 47, 47, 32)        0         \n",
      "_________________________________________________________________\n",
      "flatten (Flatten)            (None, 70688)             0         \n",
      "_________________________________________________________________\n",
      "dense (Dense)                (None, 375)               26508375  \n",
      "_________________________________________________________________\n",
      "reshape (Reshape)            (None, 5, 5, 15)          0         \n",
      "=================================================================\n",
      "Total params: 26,522,439\n",
      "Trainable params: 26,522,439\n",
      "Non-trainable params: 0\n",
      "_________________________________________________________________\n"
     ]
    }
   ],
   "source": [
    "model.summary()"
   ]
  },
  {
   "cell_type": "code",
   "execution_count": 0,
   "metadata": {
    "colab": {},
    "colab_type": "code",
    "id": "TUZ9pGdsi9Hz"
   },
   "outputs": [],
   "source": [
    "class yolo_seq(tf.keras.utils.Sequence):\n",
    "  def __init__(self, batch_size):\n",
    "    self.batch_size = batch_size\n",
    "   \n",
    "  def __len__(self):\n",
    "    return 100\n",
    "  \n",
    "  def __getitem__(self, idx):\n",
    "    x, y = mln.get_data(self.batch_size)\n",
    "    x = clean(x)\n",
    "    return x, y"
   ]
  },
  {
   "cell_type": "code",
   "execution_count": 0,
   "metadata": {
    "colab": {
     "base_uri": "https://localhost:8080/",
     "height": 35
    },
    "colab_type": "code",
    "id": "yTOhPwosTxTf",
    "outputId": "dbf89712-0707-40ae-f2c2-17c819f524f0"
   },
   "outputs": [
    {
     "name": "stdout",
     "output_type": "stream",
     "text": [
      "100/100 [==============================] - 105s 1s/step - loss: 2.8677\n"
     ]
    }
   ],
   "source": [
    "generator = yolo_seq(128)\n",
    "history = model.fit_generator(generator, epochs=1, max_queue_size=2)"
   ]
  },
  {
   "cell_type": "code",
   "execution_count": 0,
   "metadata": {
    "colab": {},
    "colab_type": "code",
    "id": "KSE99gUMTxTy"
   },
   "outputs": [],
   "source": [
    "test_data, test_label = mln.get_data(100)\n",
    "test_data = test_data.astype(np.float32)\n",
    "norm_data = clean(test_data)"
   ]
  },
  {
   "cell_type": "code",
   "execution_count": 0,
   "metadata": {
    "colab": {},
    "colab_type": "code",
    "id": "dVChprckTxT1"
   },
   "outputs": [],
   "source": [
    "out = model.predict(norm_data)"
   ]
  },
  {
   "cell_type": "code",
   "execution_count": 0,
   "metadata": {
    "colab": {
     "base_uri": "https://localhost:8080/",
     "height": 35
    },
    "colab_type": "code",
    "id": "-Ts7eTDsFmkU",
    "outputId": "2df90aa7-dfc0-436d-e787-ef11079acf47"
   },
   "outputs": [
    {
     "name": "stdout",
     "output_type": "stream",
     "text": [
      "83.81190476190476\n"
     ]
    }
   ],
   "source": [
    "acc = 0\n",
    "for i in range(100):\n",
    "  y_true = test_label[i]\n",
    "  y_pred = out[i]\n",
    "  non_max_supression(y_pred)\n",
    "  acc += sample_compare((y_true, y_pred))\n",
    "\n",
    "print(acc)"
   ]
  },
  {
   "cell_type": "code",
   "execution_count": 0,
   "metadata": {
    "colab": {},
    "colab_type": "code",
    "id": "_i2XX5W_TxT8"
   },
   "outputs": [],
   "source": [
    "plt.figure(figsize=(10, 20))\n",
    "for cnt in range(1, 11):\n",
    "    img = Image.fromarray(test_data[cnt])\n",
    "    draw = ImageDraw.Draw(img)\n",
    "    div = 200/5\n",
    "\n",
    "    for x_index in range(5):\n",
    "        for y_index in range(5):\n",
    "\n",
    "            if out[cnt, x_index, y_index, 0] < 0.6:\n",
    "                continue\n",
    "\n",
    "            val = np.argmax(out[cnt,x_index,y_index,5:15])\n",
    "            \n",
    "            x0,y0 = out[cnt,x_index,y_index,1]*div+x_index*div- \\\n",
    "            0.5*out[cnt,x_index,y_index,4]*200, \\\n",
    "                    out[cnt,x_index,y_index,2]*div+y_index*div- \\\n",
    "                    0.5*out[cnt,x_index,y_index,3]*200\n",
    "\n",
    "            x1,y1 = out[cnt,x_index,y_index,1]*div+x_index*div+ \\\n",
    "            0.5*out[cnt,x_index,y_index,4]*200, \\\n",
    "                    out[cnt,x_index,y_index,2]*div+y_index*div+ \\\n",
    "                    0.5*out[cnt,x_index,y_index,3]*200\n",
    "                    \n",
    "            draw.rectangle([(x0,y0),(x1,y1)],fill=None,outline=255)\n",
    "            draw.text((x0,y0-10),'{}'.format(val), fill=255)\n",
    "\n",
    "    del draw\n",
    "    a = plt.subplot(5,2,cnt)\n",
    "    a.imshow(img)\n",
    "    a.axis('off')"
   ]
  }
 ],
 "metadata": {
  "accelerator": "GPU",
  "colab": {
   "collapsed_sections": [],
   "name": "YOLO.ipynb",
   "provenance": []
  },
  "kernelspec": {
   "display_name": "Python 3",
   "language": "python",
   "name": "python3"
  },
  "language_info": {
   "codemirror_mode": {
    "name": "ipython",
    "version": 3
   },
   "file_extension": ".py",
   "mimetype": "text/x-python",
   "name": "python",
   "nbconvert_exporter": "python",
   "pygments_lexer": "ipython3",
   "version": "3.7.3"
  }
 },
 "nbformat": 4,
 "nbformat_minor": 1
}
